{
 "cells": [
  {
   "cell_type": "code",
   "execution_count": 1,
   "id": "fbf31386-4158-4464-93ea-735022c24b2f",
   "metadata": {},
   "outputs": [
    {
     "data": {
      "text/html": [
       "<pre style=\"white-space:pre;overflow-x:auto;line-height:normal;font-family:Menlo,'DejaVu Sans Mono',consolas,'Courier New',monospace\">Manim Community <span style=\"color: #008000; text-decoration-color: #008000\">v0.16.0</span>\n",
       "\n",
       "</pre>\n"
      ],
      "text/plain": [
       "Manim Community \u001b[32mv0.\u001b[0m\u001b[32m16.0\u001b[0m\n",
       "\n"
      ]
     },
     "metadata": {},
     "output_type": "display_data"
    }
   ],
   "source": [
    "from manim import *\n",
    "config.set_width = \"80%\""
   ]
  },
  {
   "cell_type": "code",
   "execution_count": 2,
   "id": "4077f7da-c449-4fab-a41b-feb97614d7f6",
   "metadata": {},
   "outputs": [
    {
     "name": "stderr",
     "output_type": "stream",
     "text": [
      "                                                                                                                              \r"
     ]
    },
    {
     "data": {
      "text/html": [
       "<video src=\"media\\jupyter\\TableEx3@2022-08-03@17-44-14.mp4\" controls autoplay loop style=\"max-width: 60%;\"  >\n",
       "      Your browser does not support the <code>video</code> element.\n",
       "    </video>"
      ],
      "text/plain": [
       "<IPython.core.display.Video object>"
      ]
     },
     "metadata": {},
     "output_type": "display_data"
    }
   ],
   "source": [
    "%%manim -qm -v WARNING TableEx3\n",
    "\n",
    "class TableEx3(Scene):\n",
    "    def setup(self):\n",
    "        self.table = MathTable(\n",
    "            [list(map(str, [i, i**2])) for i in range(8)],\n",
    "            col_labels=[MathTex(\"x\"), MathTex(\"f(x)={x}^{2}\")],\n",
    "            include_outer_lines=True\n",
    "        )\\\n",
    "        .scale(0.6)\\\n",
    "        .set_column_colors(RED, BLUE)\n",
    "        \n",
    "    def construct(self):\n",
    "        cols_x = self.table.get_columns()[0][1:]\n",
    "        cols_fx = self.table.get_columns()[1][1:]\n",
    "        self.table[0].remove(*cols_fx)\n",
    "        self.play(Write(self.table))\n",
    "        self.wait()\n",
    "        self.play(LaggedStart(*[Transform(i.copy(), j) for i, j in zip(cols_x, cols_fx)], lag_ratio=0.1), run_time=3)\n",
    "        self.wait()"
   ]
  },
  {
   "cell_type": "code",
   "execution_count": 5,
   "id": "cbc1e814-f4a0-40c4-a7a8-3eb56beec04d",
   "metadata": {},
   "outputs": [
    {
     "name": "stderr",
     "output_type": "stream",
     "text": [
      "                                                                                                                              \r"
     ]
    },
    {
     "data": {
      "text/html": [
       "<video src=\"media\\jupyter\\MatrixEx4@2022-08-03@17-46-41.mp4\" controls autoplay loop style=\"max-width: 60%;\"  >\n",
       "      Your browser does not support the <code>video</code> element.\n",
       "    </video>"
      ],
      "text/plain": [
       "<IPython.core.display.Video object>"
      ]
     },
     "metadata": {},
     "output_type": "display_data"
    }
   ],
   "source": [
    "%%manim -qm -v WARNING MatrixEx4\n",
    "import numpy as np\n",
    "config.set_width=\"80%\"\n",
    "\n",
    "class MatrixEx4(Scene):\n",
    "    def setup(self):\n",
    "        self.row_count = 3\n",
    "        self.col_count = 3\n",
    "        data = [1, 4, 3, 3, 5, 2, 5, 2, 3]\n",
    "        data = np.array(data)\n",
    "        data = data.reshape(self.row_count, self.col_count)\n",
    "        self.main_matrix = Matrix(\n",
    "            data\n",
    "        ).scale(0.8).shift(UP*2.5)\n",
    "        \n",
    "        new_data = data.transpose()\n",
    "        self.transpose_matrix = Matrix(\n",
    "            new_data\n",
    "        ).scale(0.8).shift(DOWN*2.5)\n",
    "        self.add(self.main_matrix, self.transpose_matrix[1:3])\n",
    "    \n",
    "    def rotate_row(self, row):\n",
    "        self.play(row.animate.arrange(DOWN))\n",
    "    \n",
    "    def construct(self):\n",
    "        for index, origin_row in enumerate(self.main_matrix.get_rows()):\n",
    "            row = origin_row.copy()\n",
    "            origin_row.set_opacity(0.5)\n",
    "            self.play(row.animate.move_to(ORIGIN))\n",
    "            self.rotate_row(row)\n",
    "            col = self.transpose_matrix.get_columns()[index]\n",
    "            self.play(Transform(row, col))\n",
    "        # self.play(row_0.animate.shift(DOWN * 2))\n",
    "        "
   ]
  },
  {
   "cell_type": "code",
   "execution_count": null,
   "id": "3ea5f773-c862-44e8-9c03-2801faed6c91",
   "metadata": {},
   "outputs": [],
   "source": []
  }
 ],
 "metadata": {
  "kernelspec": {
   "display_name": "Python 3 (ipykernel)",
   "language": "python",
   "name": "python3"
  },
  "language_info": {
   "codemirror_mode": {
    "name": "ipython",
    "version": 3
   },
   "file_extension": ".py",
   "mimetype": "text/x-python",
   "name": "python",
   "nbconvert_exporter": "python",
   "pygments_lexer": "ipython3",
   "version": "3.10.5"
  }
 },
 "nbformat": 4,
 "nbformat_minor": 5
}
