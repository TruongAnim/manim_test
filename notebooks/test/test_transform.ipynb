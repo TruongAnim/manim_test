{
 "cells": [
  {
   "cell_type": "code",
   "execution_count": 1,
   "id": "7185c430-85a5-44e9-8f0b-37762360837d",
   "metadata": {},
   "outputs": [
    {
     "data": {
      "text/html": [
       "<pre style=\"white-space:pre;overflow-x:auto;line-height:normal;font-family:Menlo,'DejaVu Sans Mono',consolas,'Courier New',monospace\">Manim Community <span style=\"color: #008000; text-decoration-color: #008000\">v0.16.0</span>\n",
       "\n",
       "</pre>\n"
      ],
      "text/plain": [
       "Manim Community \u001b[32mv0.\u001b[0m\u001b[32m16.0\u001b[0m\n",
       "\n"
      ]
     },
     "metadata": {},
     "output_type": "display_data"
    }
   ],
   "source": [
    "from manim import *\n",
    "config.set_width = \"80%\""
   ]
  },
  {
   "cell_type": "code",
   "execution_count": 2,
   "id": "31a02c4f-d30e-46af-bc77-e6f1fa180c5e",
   "metadata": {},
   "outputs": [
    {
     "name": "stderr",
     "output_type": "stream",
     "text": [
      "                                                                                                                              \r"
     ]
    },
    {
     "data": {
      "text/html": [
       "<video src=\"media\\jupyter\\TestTransform@2022-08-03@17-47-16.mp4\" controls autoplay loop style=\"max-width: 60%;\"  >\n",
       "      Your browser does not support the <code>video</code> element.\n",
       "    </video>"
      ],
      "text/plain": [
       "<IPython.core.display.Video object>"
      ]
     },
     "metadata": {},
     "output_type": "display_data"
    }
   ],
   "source": [
    "%%manim -qm -v WARNING TestTransform\n",
    "\n",
    "class TestTransform(Scene):\n",
    "    def construct(self):\n",
    "        circle = Circle().rotate(PI/2)\n",
    "        square = Square()\n",
    "        self.play(Create(circle))\n",
    "        circle.rotate(-PI/4)\n",
    "        # self.play(Transform(circle, square))\n",
    "        # self.play(Uncreate(circle))\n",
    "        self.play(ReplacementTransform(circle, square))\n",
    "        self.play(Uncreate(square))\n",
    "        self.wait()"
   ]
  },
  {
   "cell_type": "code",
   "execution_count": 3,
   "id": "b4314177-78f9-4597-b261-4f344e098f8f",
   "metadata": {},
   "outputs": [
    {
     "name": "stderr",
     "output_type": "stream",
     "text": [
      "                                                                                                                              \r"
     ]
    },
    {
     "name": "stdout",
     "output_type": "stream",
     "text": [
      "create a copy()\n",
      "create a copy()\n"
     ]
    },
    {
     "name": "stderr",
     "output_type": "stream",
     "text": [
      "                                                                                                                              \r"
     ]
    },
    {
     "data": {
      "text/html": [
       "<video src=\"media\\jupyter\\Ex1@2022-08-03@17-47-27.mp4\" controls autoplay loop style=\"max-width: 60%;\"  >\n",
       "      Your browser does not support the <code>video</code> element.\n",
       "    </video>"
      ],
      "text/plain": [
       "<IPython.core.display.Video object>"
      ]
     },
     "metadata": {},
     "output_type": "display_data"
    }
   ],
   "source": [
    "%%manim -qm -v WARNING Ex1\n",
    "\n",
    "class Ex1(Scene):\n",
    "    def setup(self):\n",
    "        pass\n",
    "    \n",
    "    def get_copy(self, obj):\n",
    "        print(\"create a copy()\")\n",
    "        return obj.copy()\n",
    "    \n",
    "    def construct(self):\n",
    "        tex = MathTex(\n",
    "\n",
    "            \"\\\\frac{d}{dx}\",  # 0\n",
    "\n",
    "            \"(\",              # 1\n",
    "\n",
    "            \"u\",              # 2\n",
    "\n",
    "            \"+\",              # 3\n",
    "\n",
    "            \"v\",              # 4\n",
    "\n",
    "            \")=\",             # 5\n",
    "\n",
    "            \"\\\\frac{d}{dx}\",  # 6\n",
    "\n",
    "            \"u\",              # 7\n",
    "\n",
    "            \"+\",              # 8\n",
    "\n",
    "            \"\\\\frac{d}{dx}\",  # 9\n",
    "\n",
    "            \"v\"               # 10\n",
    "\n",
    "        ).scale(2)\n",
    "\n",
    "        self.play(\n",
    "\n",
    "            Write(tex[:6])\n",
    "\n",
    "        )\n",
    "        key_map_1 = {2:7, 3:8, 4:10}\n",
    "        key_map_2 = ((0,0),\n",
    "                     (6,9))\n",
    "        self.play(*[ReplacementTransform(tex[i].copy(), tex[key_map_1[i]]) for i in key_map_1], run_time=2)\n",
    "        self.wait()\n",
    "        a,b = key_map_2\n",
    "        self.play(*[ReplacementTransform(self.get_copy(tex[i]), tex[j]) for i, j in zip(a,b)], run_time=2)\n",
    "        self.wait()\n",
    "        self.play(Uncreate(tex))\n",
    "        self.wait()"
   ]
  },
  {
   "cell_type": "code",
   "execution_count": 67,
   "id": "a4112bba-d6ea-45cc-aa12-e0eb9fe5542e",
   "metadata": {},
   "outputs": [
    {
     "name": "stdout",
     "output_type": "stream",
     "text": [
      "[[2, 3, 4], [7, 8, 10]] [[0, 0], [6, 9]]\n",
      "a= [2, 3, 4] b= [0, 0]\n",
      "a= [7, 8, 10] b= [6, 9]\n",
      "[([2, 3, 4], [0, 0]), ([7, 8, 10], [6, 9])]\n"
     ]
    }
   ],
   "source": [
    "        steps = [\n",
    "            # Step 1\n",
    "            [[2,3,4],\n",
    "             [7,8,10]],\n",
    "            # Step 2\n",
    "            [[0,0],\n",
    "             [6,9]],\n",
    "        ]\n",
    "b, c = steps\n",
    "def print_2(a, b):\n",
    "    print(\"a=\", a, \"b=\", b)\n",
    "print(b,c)\n",
    "\n",
    "for i,j in zip(b, c):\n",
    "    print_2(i, j)\n",
    "\n",
    "a = [ (i,j) for i,j in zip(b,c)]\n",
    "print(a)\n"
   ]
  },
  {
   "cell_type": "code",
   "execution_count": 5,
   "id": "b7b6ba98-1f17-4066-86e8-8c353692423b",
   "metadata": {},
   "outputs": [
    {
     "name": "stderr",
     "output_type": "stream",
     "text": [
      "                                                                                                                              \r"
     ]
    },
    {
     "data": {
      "text/html": [
       "<video src=\"media\\jupyter\\T1@2022-08-03@17-47-56.mp4\" controls autoplay loop style=\"max-width: 60%;\"  >\n",
       "      Your browser does not support the <code>video</code> element.\n",
       "    </video>"
      ],
      "text/plain": [
       "<IPython.core.display.Video object>"
      ]
     },
     "metadata": {},
     "output_type": "display_data"
    }
   ],
   "source": [
    "%%manim -qm -v WARNING T1\n",
    "\n",
    "def func(i, j):\n",
    "    pass\n",
    "\n",
    "class T1(Scene):\n",
    "    def construct(self):\n",
    "        tex = MathTex(\n",
    "            \"\\\\frac{d}{dx}\",  # 0\n",
    "            \"(\",              # 1\n",
    "            \"u\",              # 2\n",
    "            \"+\",              # 3\n",
    "            \"v\",              # 4\n",
    "            \")=\",             # 5\n",
    "            \"\\\\frac{d}{dx}\",  # 6\n",
    "            \"u\",              # 7\n",
    "            \"+\",              # 8\n",
    "            \"\\\\frac{d}{dx}\",  # 9\n",
    "            \"v\"               # 10\n",
    "        ).scale(2)\n",
    "        self.play(\n",
    "            Write(tex[:6])\n",
    "        )\n",
    "        self.wait()\n",
    "        steps = [\n",
    "            # Step 1\n",
    "            [[2,3,4],\n",
    "             [7,8,10]],\n",
    "            # Step 2\n",
    "            [[0,0],\n",
    "             [6,9]],\n",
    "        ]\n",
    "        for step in steps:\n",
    "            base, target = step\n",
    "            self.play(*[\n",
    "                ReplacementTransform(tex[i].copy(),tex[j],run_time=3)\n",
    "                for i,j in zip(base,target)\n",
    "            ])\n",
    "            self.wait()"
   ]
  },
  {
   "cell_type": "code",
   "execution_count": 6,
   "id": "651222fa-0d79-4ddc-8686-51e6d5069ced",
   "metadata": {},
   "outputs": [
    {
     "name": "stderr",
     "output_type": "stream",
     "text": [
      "                                                                                                                              \r"
     ]
    },
    {
     "data": {
      "text/html": [
       "<video src=\"media\\jupyter\\Ex2@2022-08-03@17-48-10.mp4\" controls autoplay loop style=\"max-width: 60%;\"  >\n",
       "      Your browser does not support the <code>video</code> element.\n",
       "    </video>"
      ],
      "text/plain": [
       "<IPython.core.display.Video object>"
      ]
     },
     "metadata": {},
     "output_type": "display_data"
    }
   ],
   "source": [
    "%%manim -qm -v WARNING Ex2\n",
    "\n",
    "class Ex2(Scene):\n",
    "    def setup(self):\n",
    "        pass\n",
    "    \n",
    "    def construct(self):\n",
    "        tex1 = MathTex(\n",
    "            r\"\\neg\",    # 0\n",
    "            r\"\\forall\", # 1\n",
    "            \"x\",       # 2\n",
    "            \":\",       # 3\n",
    "            \"P\",       # 4\n",
    "            \"(\",       # 5\n",
    "            \"x\",       # 6\n",
    "            \")\"        # 7\n",
    "        )\n",
    "        tex2 = MathTex(\n",
    "            r\"\\exists\", # 0\n",
    "            \"x\",        # 1\n",
    "            \":\",        # 2\n",
    "            r\"\\neg\",    # 3\n",
    "            \"P\",        # 4\n",
    "            \"(\",        # 5\n",
    "            \"x\",        # 6\n",
    "            \")\"         # 7\n",
    "        ).next_to(tex1, DOWN)\n",
    "        steps = [\n",
    "            [[2, 3, 4, 5, 6, 7],\n",
    "             [1, 2, 4, 5, 6, 7]],\n",
    "            [[0],\n",
    "             [3]],\n",
    "            [[1],\n",
    "             [0]]\n",
    "        ]\n",
    "        self.play(Write(tex1))\n",
    "        \n",
    "        for step in steps:\n",
    "            from_, target = step\n",
    "            self.play(*[\n",
    "                ReplacementTransform(tex1[i].copy(), tex2[j]) for i,j in zip(from_, target)\n",
    "            ])\n",
    "            self.wait()\n",
    "        self.play(Uncreate(tex1), Uncreate(tex2))"
   ]
  },
  {
   "cell_type": "code",
   "execution_count": 7,
   "id": "e0926586-1205-4437-8c10-7bda4fb8d524",
   "metadata": {},
   "outputs": [
    {
     "name": "stderr",
     "output_type": "stream",
     "text": [
      "                                                                                                                              \r"
     ]
    },
    {
     "data": {
      "text/html": [
       "<video src=\"media\\jupyter\\BubbleSort@2022-08-03@17-48-42.mp4\" controls autoplay loop style=\"max-width: 60%;\"  >\n",
       "      Your browser does not support the <code>video</code> element.\n",
       "    </video>"
      ],
      "text/plain": [
       "<IPython.core.display.Video object>"
      ]
     },
     "metadata": {},
     "output_type": "display_data"
    }
   ],
   "source": [
    "%%manim -qm -v WARNING BubbleSort\n",
    "import numpy as np\n",
    "from common.custom.custom_animation import *\n",
    "\n",
    "class BorderNumber(Integer):\n",
    "    def __init__(self, border_length=1, **kwargs):\n",
    "        super().__init__(**kwargs)\n",
    "        self.add(Square(side_length=border_length))\n",
    "        \n",
    "class ArrowText(VGroup):\n",
    "    def __init__(self, text = \"0\", direction = UP, arrow_color = BLUE, **kwargs):\n",
    "        super().__init__(**kwargs)\n",
    "        self.text = Paragraph(text, alignment=\"center\")\n",
    "        tri_kwargs = {\"fill_color\":arrow_color, \"fill_opacity\":1, \"stroke_width\":0}\n",
    "        self.tri = Triangle(**tri_kwargs).scale(0.2).next_to(self.text, direction, buff=SMALL_BUFF)\n",
    "        self.add(self.text)\n",
    "        self.add(self.tri)\n",
    "        if (direction == DOWN).all():\n",
    "            self.tri.rotate(PI)\n",
    "        elif (direction == LEFT).all():\n",
    "            self.tri.rotate(PI/2)\n",
    "        elif (direction == RIGHT).all():\n",
    "            self.tri.rotate(-PI/2)\n",
    "\n",
    "class BubbleSort(Scene):\n",
    "    def setup(self):\n",
    "        self.main_list = np.random.randint(1,10, 7)\n",
    "        self.visual_list = VGroup(*[BorderNumber(number=i, border_length = 0.5).scale(2)  for i in self.main_list])\n",
    "        self.visual_list.arrange(RIGHT, buff=0)\n",
    "        self.index_list = VGroup(*[Integer(number=i).scale(0.5).next_to(item, UP, buff=SMALL_BUFF) for i, item in enumerate(self.visual_list)])\n",
    "        self.current_pair = self.make_current_pair().move_to(self.visual_list[0].get_right())\n",
    "        self.i_index = ArrowText(\"i=0\", direction=UP, arrow_color=BLUE).next_to(self.visual_list[0], DOWN, buff=0)\n",
    "        self.j_index = ArrowText(\"j=0\", direction=UP, arrow_color=BLUE).next_to(self.visual_list[0], DOWN, buff=LARGE_BUFF)\n",
    "        self.end_index = ArrowText(f\"(end)\\n{len(self.main_list)-1}\", direction=DOWN, arrow_color=BLUE).next_to(self.index_list[-1], UP, SMALL_BUFF)\n",
    "        \n",
    "    def swap_two_element(self, arr, i, j):\n",
    "        arr[i], arr[j] = arr[j], arr[i]\n",
    "        self.play(*[\n",
    "            Transform(self.visual_list[i], self.visual_list[i].copy().move_to(self.visual_list[j].get_center())),\n",
    "            Transform(self.visual_list[j], self.visual_list[j].copy().move_to(self.visual_list[i].get_center()))\n",
    "        ])\n",
    "        self.visual_list[i], self.visual_list[j] = self.visual_list[j], self.visual_list[i]\n",
    "    \n",
    "    def make_current_pair(self):\n",
    "        w = self.visual_list[0].width * 2\n",
    "        h = self.visual_list[0].height\n",
    "        kwargs = {\"width\": w, \"height\": h, \"stroke_color\": RED, \"stroke_width\" : 4}\n",
    "        return Rectangle(**kwargs)\n",
    "        \n",
    "    \n",
    "    def bubble_sort(self, arr):\n",
    "        arr_len = len(arr)\n",
    "        for i in range(arr_len):\n",
    "            end = arr_len - i - 1\n",
    "            self.play(Transform(self.i_index, ArrowText(f\"i={i}\", direction=UP, arrow_color=BLUE).next_to(self.visual_list[i], DOWN, buff=0)))\n",
    "            self.play(Transform(self.end_index, ArrowText(f\"(end)\\n{end}\", direction=DOWN, arrow_color=BLUE).next_to(self.index_list[end], UP, buff=SMALL_BUFF)))\n",
    "            for j in range(end):\n",
    "                self.play(*[self.current_pair.animate.move_to(self.visual_list[j].get_right()),\n",
    "                            Transform(self.j_index, ArrowText(f\"j={j}\", direction=UP, arrow_color=BLUE).next_to(self.visual_list[j], DOWN, buff=LARGE_BUFF))\n",
    "                           ])\n",
    "                if arr[j] > arr[j + 1]:\n",
    "                    self.play(FillAndFade(self.current_pair, RED))\n",
    "                    self.swap_two_element(arr, j, j + 1)\n",
    "                else:\n",
    "                    # No need to swap\n",
    "                    self.play(FillAndFade(self.current_pair, GREEN))\n",
    "    \n",
    "    def construct(self):\n",
    "        self.play(Create(self.visual_list), Create(self.i_index), Create(self.j_index), Create(self.index_list), Create(self.end_index))\n",
    "        self.bubble_sort(self.main_list)\n",
    "    \n"
   ]
  },
  {
   "cell_type": "code",
   "execution_count": 8,
   "id": "557e24eb-8bcd-4230-805a-e7cd59568a37",
   "metadata": {},
   "outputs": [
    {
     "name": "stderr",
     "output_type": "stream",
     "text": [
      "                                                                                                                              \r"
     ]
    },
    {
     "data": {
      "text/html": [
       "<video src=\"media\\jupyter\\Ex4@2022-08-03@17-48-46.mp4\" controls autoplay loop style=\"max-width: 60%;\"  >\n",
       "      Your browser does not support the <code>video</code> element.\n",
       "    </video>"
      ],
      "text/plain": [
       "<IPython.core.display.Video object>"
      ]
     },
     "metadata": {},
     "output_type": "display_data"
    }
   ],
   "source": [
    "%%manim -qm -n 10 -v WARNING Ex4\n",
    "from itertools import cycle\n",
    "from math import sqrt\n",
    "\n",
    "def yield_cycle(list_):\n",
    "    for i in cycle(*[list_]):\n",
    "        yield i\n",
    "\n",
    "class Ex4(Scene):\n",
    "    def setup(self):\n",
    "        pass\n",
    "    def construct(self):\n",
    "        list_square = []\n",
    "        direction = yield_cycle([RIGHT, DOWN, LEFT, UP])\n",
    "        align = yield_cycle([UP, RIGHT, DOWN, LEFT])\n",
    "        s_angle = yield_cycle([PI, PI/2, 0, -PI/2])\n",
    "        corner = yield_cycle([DR, DL, UL, UR])\n",
    "        ratio = 1/((1+sqrt(5))/2)\n",
    "        \n",
    "        for i in range(10):\n",
    "            if list_square == []:\n",
    "                list_square.append(Square(side_length=4, stroke_width = 1).shift(LEFT*2))\n",
    "            else:\n",
    "                pre = list_square[-1]\n",
    "                list_square.append(Square(side_length=pre.width*ratio, stroke_width = 1).next_to(pre, next(direction), buff=0, aligned_edge=next(align)))\n",
    "        \n",
    "        \n",
    "        self.play(Create(list_square[0]))\n",
    "        for i, item in enumerate(list_square[1:]):\n",
    "            self.play(Transform(list_square[i].copy(), item))\n",
    "            \n",
    "        for item in list_square:\n",
    "            self.play(Create(Arc(radius = item.width, start_angle = next(s_angle), angle=-PI/2, arc_center=item.get_corner(next(corner)), stroke_color=RED, stroke_width=1)), rate_func=linear)\n",
    "        \n",
    "        self.wait()"
   ]
  },
  {
   "cell_type": "code",
   "execution_count": null,
   "id": "0c9b0c76-1436-4291-ba7c-befc96555867",
   "metadata": {},
   "outputs": [],
   "source": []
  }
 ],
 "metadata": {
  "kernelspec": {
   "display_name": "Python 3 (ipykernel)",
   "language": "python",
   "name": "python3"
  },
  "language_info": {
   "codemirror_mode": {
    "name": "ipython",
    "version": 3
   },
   "file_extension": ".py",
   "mimetype": "text/x-python",
   "name": "python",
   "nbconvert_exporter": "python",
   "pygments_lexer": "ipython3",
   "version": "3.10.5"
  }
 },
 "nbformat": 4,
 "nbformat_minor": 5
}
