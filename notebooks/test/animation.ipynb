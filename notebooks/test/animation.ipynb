{
 "cells": [
  {
   "cell_type": "code",
   "execution_count": 1,
   "id": "e968fff2-eba5-4c53-8aac-60c018a4e359",
   "metadata": {},
   "outputs": [
    {
     "data": {
      "text/html": [
       "<pre style=\"white-space:pre;overflow-x:auto;line-height:normal;font-family:Menlo,'DejaVu Sans Mono',consolas,'Courier New',monospace\">Manim Community <span style=\"color: #008000; text-decoration-color: #008000\">v0.16.0</span>\n",
       "\n",
       "</pre>\n"
      ],
      "text/plain": [
       "Manim Community \u001b[32mv0.\u001b[0m\u001b[32m16.0\u001b[0m\n",
       "\n"
      ]
     },
     "metadata": {},
     "output_type": "display_data"
    }
   ],
   "source": [
    "from manim import *\n",
    "config.set_width = \"80%\""
   ]
  },
  {
   "cell_type": "code",
   "execution_count": 4,
   "id": "cf1e444f-1f9d-44fd-8f2d-540d38f09d33",
   "metadata": {},
   "outputs": [
    {
     "name": "stderr",
     "output_type": "stream",
     "text": [
      "                                                                                                                              \r"
     ]
    },
    {
     "data": {
      "text/html": [
       "<video src=\"media\\jupyter\\Ex1@2022-08-03@17-22-07.mp4\" controls autoplay loop style=\"max-width: 60%;\"  >\n",
       "      Your browser does not support the <code>video</code> element.\n",
       "    </video>"
      ],
      "text/plain": [
       "<IPython.core.display.Video object>"
      ]
     },
     "metadata": {},
     "output_type": "display_data"
    }
   ],
   "source": [
    "%%manim -qm -v WARNING Ex1\n",
    "\n",
    "class Ex1(Scene):\n",
    "    def setup(self):\n",
    "        self.hello = Text(*[\"Hello world!\"])\n",
    "        self.add(self.hello)\n",
    "    \n",
    "    def construct(self):\n",
    "        def set_color(color = RED):\n",
    "            def _(obj):\n",
    "                obj.set_color(color)\n",
    "                return obj\n",
    "            return _\n",
    "        \n",
    "        for i in range(10):\n",
    "            self.play(*[\n",
    "                ApplyFunction(set_color(random_color()),j) for j in self.hello\n",
    "            ])"
   ]
  },
  {
   "cell_type": "code",
   "execution_count": 5,
   "id": "5e553190-fb68-4bb0-b923-c91bb6ab8312",
   "metadata": {},
   "outputs": [
    {
     "name": "stderr",
     "output_type": "stream",
     "text": [
      "                                                                                                                              \r"
     ]
    },
    {
     "data": {
      "text/html": [
       "<video src=\"media\\jupyter\\Ex1@2022-08-03@17-22-23.mp4\" controls autoplay loop style=\"max-width: 60%;\"  >\n",
       "      Your browser does not support the <code>video</code> element.\n",
       "    </video>"
      ],
      "text/plain": [
       "<IPython.core.display.Video object>"
      ]
     },
     "metadata": {},
     "output_type": "display_data"
    }
   ],
   "source": [
    "%%manim -qm -v WARNING Ex1\n",
    "\n",
    "class Ex1(Scene):\n",
    "    def setup(self):\n",
    "        self.hello = Text(\"Hello world!\")\n",
    "        self.add(self.hello)\n",
    "        \n",
    "    def construct(self):\n",
    "        self.hello.generate_target()\n",
    "        for i in range(5):\n",
    "            for j in self.hello.target:\n",
    "                j.set_color(random_color())\n",
    "            self.play(MoveToTarget(self.hello))"
   ]
  },
  {
   "cell_type": "code",
   "execution_count": 6,
   "id": "56db8239-003f-42b2-8bcb-4d65b93568f0",
   "metadata": {},
   "outputs": [
    {
     "name": "stderr",
     "output_type": "stream",
     "text": [
      "                                                                                                                              \r"
     ]
    },
    {
     "data": {
      "text/html": [
       "<video src=\"media\\jupyter\\Ex1@2022-08-03@17-22-35.mp4\" controls autoplay loop style=\"max-width: 60%;\"  >\n",
       "      Your browser does not support the <code>video</code> element.\n",
       "    </video>"
      ],
      "text/plain": [
       "<IPython.core.display.Video object>"
      ]
     },
     "metadata": {},
     "output_type": "display_data"
    }
   ],
   "source": [
    "%%manim -qm -v WARNING Ex1\n",
    "\n",
    "class Ex1(Scene):\n",
    "    def setup(self):\n",
    "        self.hello = Text(\"Hello world!\")\n",
    "        self.add(self.hello)\n",
    "        \n",
    "    def construct(self):\n",
    "        for i in range(10):\n",
    "            self.play(*[\n",
    "                char.animate.set_color(random_color()) for char in self.hello\n",
    "            ])"
   ]
  },
  {
   "cell_type": "code",
   "execution_count": 8,
   "id": "cd797ea9-5654-428e-9024-d5b1f52eb86c",
   "metadata": {},
   "outputs": [
    {
     "name": "stderr",
     "output_type": "stream",
     "text": [
      "                                                                                                                              \r"
     ]
    },
    {
     "data": {
      "text/html": [
       "<video src=\"media\\jupyter\\Logo@2022-08-03@17-27-50.mp4\" controls autoplay loop style=\"max-width: 60%;\"  >\n",
       "      Your browser does not support the <code>video</code> element.\n",
       "    </video>"
      ],
      "text/plain": [
       "<IPython.core.display.Video object>"
      ]
     },
     "metadata": {},
     "output_type": "display_data"
    }
   ],
   "source": [
    "%%manim -qm -v WARNING Logo\n",
    "config.assets_dir = \"./assets\"\n",
    "\n",
    "class Logo(Scene):\n",
    "    def setup(self):\n",
    "        self.info = [(\"facebook\", DARK_BLUE, \"facebook.com\"),\n",
    "                (\"twitter\", BLUE, \"twitter.com\"),\n",
    "                (\"reddit\", ORANGE, \"reddit.com\"),\n",
    "                (\"github\", WHITE, \"github.com\"),\n",
    "                (\"youtube\", RED, \"youtube.com\")]\n",
    "        def add_circle(obj):\n",
    "            circle = Circle(fill_color=WHITE, fill_opacity = 0, stroke_width=0, stroke_opacity=0).match_width(obj).scale(0.9)\n",
    "            obj.add_to_back(circle)\n",
    "            return obj\n",
    "        self.group = VGroup(*[add_circle(SVGMobject(name).set_color(color)) for name, color, text in self.info]).arrange(RIGHT)\n",
    "        self.group_text = VGroup(*[Text(text).set_color(color) for name, color, text in self.info]).arrange(DOWN, aligned_edge=LEFT).scale(1).align_to(LEFT)\n",
    "    \n",
    "    def construct(self):\n",
    "        self.play(LaggedStart(*[\n",
    "            Write(item) for index, item in enumerate(self.group)\n",
    "        ], run_time=3, lag_ratio = 0.5 ))\n",
    "        self.group.generate_target()\n",
    "        self.group.target.arrange(DOWN).scale_to_fit_height(7).shift(LEFT*5)\n",
    "        for i, item in enumerate(self.group_text):\n",
    "            # print(self.group.target[i].get_y())\n",
    "            item.set_y(self.group.target[i].get_y())\n",
    "        self.play(MoveToTarget(self.group))\n",
    "        self.group.target.next_to(self.group_text, LEFT, SMALL_BUFF)\n",
    "        for i in self.group.target:\n",
    "            i[0].set_fill(opacity=1)\n",
    "        self.play(*[\n",
    "            Write(i) for i in self.group_text\n",
    "        ], *[\n",
    "            MoveToTarget(self.group)\n",
    "        ], run_time=2)\n",
    "        self.wait()\n",
    "        "
   ]
  },
  {
   "cell_type": "code",
   "execution_count": null,
   "id": "09ded55f-0e6f-45b5-a540-cc0799010df3",
   "metadata": {},
   "outputs": [],
   "source": []
  }
 ],
 "metadata": {
  "kernelspec": {
   "display_name": "Python 3 (ipykernel)",
   "language": "python",
   "name": "python3"
  },
  "language_info": {
   "codemirror_mode": {
    "name": "ipython",
    "version": 3
   },
   "file_extension": ".py",
   "mimetype": "text/x-python",
   "name": "python",
   "nbconvert_exporter": "python",
   "pygments_lexer": "ipython3",
   "version": "3.10.5"
  }
 },
 "nbformat": 4,
 "nbformat_minor": 5
}
