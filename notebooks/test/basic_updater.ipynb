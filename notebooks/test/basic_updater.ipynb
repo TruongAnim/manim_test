{
 "cells": [
  {
   "cell_type": "code",
   "execution_count": 2,
   "id": "587768ff-6a2b-4f63-8ac8-006904ee95b3",
   "metadata": {},
   "outputs": [
    {
     "data": {
      "text/html": [
       "<pre style=\"white-space:pre;overflow-x:auto;line-height:normal;font-family:Menlo,'DejaVu Sans Mono',consolas,'Courier New',monospace\">Manim Community <span style=\"color: #008000; text-decoration-color: #008000\">v0.16.0</span>\n",
       "\n",
       "</pre>\n"
      ],
      "text/plain": [
       "Manim Community \u001b[32mv0.\u001b[0m\u001b[32m16.0\u001b[0m\n",
       "\n"
      ]
     },
     "metadata": {},
     "output_type": "display_data"
    }
   ],
   "source": [
    "from manim import *\n",
    "config.set_width = \"80%\""
   ]
  },
  {
   "cell_type": "code",
   "execution_count": 7,
   "id": "17e856cd-59a0-4cd6-8736-3292f55ab865",
   "metadata": {},
   "outputs": [
    {
     "name": "stderr",
     "output_type": "stream",
     "text": [
      "                                                                                                                              \r"
     ]
    },
    {
     "data": {
      "text/html": [
       "<video src=\"media\\jupyter\\Ex1@2022-08-03@17-31-17.mp4\" controls autoplay loop style=\"max-width: 60%;\"  >\n",
       "      Your browser does not support the <code>video</code> element.\n",
       "    </video>"
      ],
      "text/plain": [
       "<IPython.core.display.Video object>"
      ]
     },
     "metadata": {},
     "output_type": "display_data"
    }
   ],
   "source": [
    "%%manim -qm -v WARNING Ex1\n",
    "import numpy as np\n",
    "\n",
    "class Ex1(Scene):\n",
    "    def setup(self):\n",
    "        equation = MathTex(r\"f\\left( x \\right)=x^{2}\").scale(2).to_corner(UR)\n",
    "        self.add(equation)\n",
    "        self.number_line1 = NumberLine(\n",
    "            x_range=[0,10,1],\n",
    "            include_numbers=True\n",
    "        ).to_edge(LEFT).shift(UP)\n",
    "        self.number_line2 = NumberLine(\n",
    "            x_range=[0,100,10],\n",
    "            length=12,\n",
    "            include_numbers=True\n",
    "        ).scale(1.05).to_edge(LEFT).shift(DOWN*2)\n",
    "        self.add(self.number_line1, self.number_line2)\n",
    "    def construct(self):\n",
    "        from common.custom.custom_mobject import TickDecimalNumber\n",
    "        decimal1 = TickDecimalNumber(\n",
    "            number=0,\n",
    "            tick_color=BLUE\n",
    "        )\n",
    "        decimal2 = TickDecimalNumber(\n",
    "            number=0,\n",
    "            tick_color=RED\n",
    "        )\n",
    "        value_tracker = ValueTracker(0)        \n",
    "        def update_tick_decimal_factory(number_line, f):\n",
    "            def func(obj):\n",
    "                obj.get_decimal_number().set_value(f(value_tracker.get_value()))\n",
    "                obj.move_to(number_line.n2p(f(value_tracker.get_value())) + np.array([-(obj.get_tick().get_center()[0] - obj.get_center()[0]),0,0]) + UP)\n",
    "            return func\n",
    "        \n",
    "        decimal1.add_updater(update_tick_decimal_factory(self.number_line1, lambda x:x))\n",
    "        decimal2.add_updater(update_tick_decimal_factory(self.number_line2, lambda x:x**2))\n",
    "        \n",
    "        self.add(value_tracker, decimal1, decimal2)\n",
    "        self.play(value_tracker.animate.set_value(0))\n",
    "        self.wait(1)\n",
    "        move_to = [3,1,10]\n",
    "        for i in move_to:\n",
    "            self.play(value_tracker.animate.set_value(i), run_time=3)\n",
    "            self.wait()\n",
    "        self.wait()"
   ]
  },
  {
   "cell_type": "code",
   "execution_count": 8,
   "id": "064ecfd9-b8b0-4f38-a5aa-408a88a98d66",
   "metadata": {},
   "outputs": [
    {
     "name": "stdout",
     "output_type": "stream",
     "text": [
      "[1.0, 0.0, 0.0]\n"
     ]
    },
    {
     "name": "stderr",
     "output_type": "stream",
     "text": [
      "                                                                                                                              \r"
     ]
    },
    {
     "data": {
      "text/html": [
       "<video src=\"media\\jupyter\\Ex2@2022-08-03@17-33-46.mp4\" controls autoplay loop style=\"max-width: 60%;\"  >\n",
       "      Your browser does not support the <code>video</code> element.\n",
       "    </video>"
      ],
      "text/plain": [
       "<IPython.core.display.Video object>"
      ]
     },
     "metadata": {},
     "output_type": "display_data"
    }
   ],
   "source": [
    "%%manim -qm -v WARNING Ex2\n",
    "import math\n",
    "\n",
    "class Ex2(Scene):\n",
    "    def setup(self):\n",
    "        a = MathTex(\"a\", \"=\")\n",
    "        b = MathTex(\"b\", \"=\")\n",
    "        c = MathTex(\"c\", \"=\")\n",
    "        self.group = VGroup(a,b,c).arrange(DOWN, buff=1).shift(RIGHT*2+DOWN*2)\n",
    "        colors = [RED, BLUE, YELLOW]\n",
    "        for i, color in zip((a,b,c), colors):\n",
    "            i[0].set_color(color=color)\n",
    "        self.add(self.group)\n",
    "        \n",
    "        equation1 = MathTex(r\"cos(at) + \\frac{cos(bt)}{2}+\\frac{sin(bt)}{3}\").to_corner(UR)\n",
    "        equation2 = MathTex(r\"sin(at)+\\frac{sin(bt)}{2}+\\frac{cos(ct)}{3}\").next_to(equation1, DOWN, aligned_edge=LEFT)\n",
    "        group2 = VGroup(equation1, equation2)\n",
    "        brace = Brace(group2, LEFT)\n",
    "        c = MathTex(\"C\").next_to(brace, LEFT)\n",
    "        t = MathTex(r\"t\\in \\left[ 0,2\\pi \\right]\").next_to(group2, DOWN, aligned_edge=RIGHT)\n",
    "        self.add(group2, c, brace, t)\n",
    "        \n",
    "    def construct(self):\n",
    "        trackers = [ValueTracker() for _ in range(3)]\n",
    "        trackers[0].set_value(1)\n",
    "        print([t.get_value() for t in trackers])\n",
    "        \n",
    "        def func_factory(value):\n",
    "            def func(obj):\n",
    "                obj.set_value(value.get_value())\n",
    "            return func\n",
    "            \n",
    "        decimals = [DecimalNumber(unit=r\"^\\circ\").add_updater(func_factory(tracker)) for tracker in trackers]\n",
    "        # decimals[0].add_updater(lambda x: x.set_value(trackers[0].get_value()))\n",
    "        # decimals[1].add_updater(lambda x: x.set_value(trackers[1].get_value()))\n",
    "        # decimals[2].add_updater(lambda x: x.set_value(trackers[2].get_value()))\n",
    "        \n",
    "        \n",
    "        for i,j in zip(self.group, decimals):\n",
    "            j.next_to(i, RIGHT)\n",
    "        self.add(*trackers, *decimals)\n",
    "        \n",
    "        trackers[0].set_value(1)\n",
    "        run_time=[1,10,10,10]\n",
    "        target_value = [\n",
    "            [1, 0, 0],\n",
    "            [1, 15, 0],\n",
    "            [15, 15, 0],\n",
    "            [15, 15, 15]\n",
    "           ]\n",
    "        \n",
    "        axes = Axes(\n",
    "            x_range=[-2,2,1],\n",
    "            y_range=[-2,2,1],\n",
    "            x_length=4,\n",
    "            y_length=4,\n",
    "            axis_config={\n",
    "                \"include_numbers\":False\n",
    "            }\n",
    "        ).shift(LEFT*3)\n",
    "\n",
    "        def func(t):\n",
    "            a,b,c = [i.get_value() for i in trackers]\n",
    "            return [math.cos(a*t)+ math.cos(b*t)/2 + math.sin(c*t)/3,\n",
    "                    math.sin(a*t)+ math.sin(b*t)/2 + math.cos(c*t)/3,\n",
    "                    0]\n",
    "            \n",
    "        plot = axes.plot_parametric_curve(func, t_range=[0, 2*math.pi, 0.01], color=RED)\n",
    "        \n",
    "        def update_plot(obj):\n",
    "            new_plot = axes.plot_parametric_curve(func, t_range=[0, 2*math.pi, 0.01], color=RED)\n",
    "            plot.become(new_plot)\n",
    "        \n",
    "        plot.add_updater(update_plot)\n",
    "        self.add(axes, plot)\n",
    "        \n",
    "        for target, time in zip(target_value, run_time):\n",
    "            self.play(*[tracker.animate.set_value(value) for tracker, value in zip(trackers, target)],  run_time=time, rate_func=linear)\n",
    "            self.wait(2)\n",
    "        "
   ]
  },
  {
   "cell_type": "code",
   "execution_count": 9,
   "id": "455246ed-398a-4347-8b3f-333feff4677b",
   "metadata": {},
   "outputs": [
    {
     "name": "stderr",
     "output_type": "stream",
     "text": [
      "                                                                                                                              \r"
     ]
    },
    {
     "data": {
      "text/html": [
       "<video src=\"media\\jupyter\\Ex3@2022-08-03@17-34-36.mp4\" controls autoplay loop style=\"max-width: 60%;\"  >\n",
       "      Your browser does not support the <code>video</code> element.\n",
       "    </video>"
      ],
      "text/plain": [
       "<IPython.core.display.Video object>"
      ]
     },
     "metadata": {},
     "output_type": "display_data"
    }
   ],
   "source": [
    "%%manim -qm --disable_caching -v WARNING Ex3\n",
    "\n",
    "class Ex3(Scene):\n",
    "    def setup(self):\n",
    "        self.axes = Axes(\n",
    "            x_range=[-1,10,1],\n",
    "            y_range=[-1,6,1],\n",
    "            axis_config={\n",
    "                \"include_numbers\": True\n",
    "            }\n",
    "        )\n",
    "        func = lambda x: 0.1 * (x - 2) * (x - 8) * (x - 5) + 3\n",
    "        self.plot = self.axes.plot(func, x_range=[0.8, 9, 0.05], color=RED)\n",
    "        self.add(self.axes, self.plot)\n",
    "        \n",
    "    def construct(self):\n",
    "        value = ValueTracker(2)\n",
    "        dot = Dot(color=YELLOW)\n",
    "        \n",
    "        def update_dot(dot):\n",
    "            dot.move_to(self.axes.i2gp(value.get_value(), self.plot))\n",
    "        \n",
    "        dot.add_updater(update_dot)\n",
    "        \n",
    "        def update_line(line):\n",
    "            new_line = self.axes.get_lines_to_point(dot.get_center())\n",
    "            lines.become(new_line)\n",
    "        \n",
    "        lines = VGroup().add_updater(update_line)\n",
    "        \n",
    "        def update_derivative(deri):\n",
    "            current_value = value.get_value()\n",
    "            p1 = self.axes.i2gp(current_value, self.plot)\n",
    "            p2 = self.axes.i2gp(current_value+0.01, self.plot)\n",
    "            new_deri = Line(LEFT, RIGHT, color=YELLOW).rotate(angle_of_vector(p1-p2)).move_to(p1)\n",
    "            derivative.become(new_deri)\n",
    "        \n",
    "        derivative = Line().add_updater(update_derivative)\n",
    "        \n",
    "        self.add(value, dot, derivative, lines)\n",
    "        self.play(value.animate.set_value(2), run_time=1)\n",
    "        self.play(value.animate.set_value(8), run_time=5)"
   ]
  },
  {
   "cell_type": "code",
   "execution_count": 10,
   "id": "9f3f5136-34af-488d-a8ff-7a80feeff0e8",
   "metadata": {},
   "outputs": [
    {
     "name": "stderr",
     "output_type": "stream",
     "text": [
      "                                                                                                                              \r"
     ]
    },
    {
     "data": {
      "text/html": [
       "<video src=\"media\\jupyter\\Ex4@2022-08-03@17-34-49.mp4\" controls autoplay loop style=\"max-width: 60%;\"  >\n",
       "      Your browser does not support the <code>video</code> element.\n",
       "    </video>"
      ],
      "text/plain": [
       "<IPython.core.display.Video object>"
      ]
     },
     "metadata": {},
     "output_type": "display_data"
    }
   ],
   "source": [
    "%%manim -qm -v WARNING Ex4\n",
    "\n",
    "class Ex4(Scene):\n",
    "    def setup(self):\n",
    "        pass\n",
    "    \n",
    "    def construct(self):\n",
    "        import numpy as np\n",
    "        partical = 30\n",
    "        \n",
    "        a = np.array([-2,-2,0])\n",
    "        b = np.array([-2,2,0])\n",
    "        c = np.array([2,2,0])\n",
    "        d = np.array([2,-2,0])\n",
    "        dots = VGroup(*[Dot(i) for i in (a,b,c,d)])\n",
    "        ab = Line(a, b)\n",
    "        bc = Line(b, c)\n",
    "        cd = Line(c, d)\n",
    "        bezi = bezier([a,b,c,d])\n",
    "        points = [bezi(i/partical) for i in range(partical+1)]\n",
    "        curve = VMobject(color=RED).set_points_smoothly(points)\n",
    "        self.play(*[Write(i) for i in (ab,bc,cd,curve, dots)])\n",
    "        \n",
    "        curve.generate_target()\n",
    "        ab.generate_target()\n",
    "        bc.generate_target()\n",
    "        cd.generate_target()\n",
    "        dots.generate_target()\n",
    "        As = [\n",
    "            (-4,-2,0),\n",
    "            (-4,-2,0),\n",
    "            (-4,2,0),\n",
    "            (-4,2,0),\n",
    "        ]\n",
    "        Bs = [\n",
    "            (-2,2,0),\n",
    "            (-2,2,0),\n",
    "            (-2,-2,0),\n",
    "            (-2,-2,0),\n",
    "        ]\n",
    "        Cs = [\n",
    "            (2,2,0),\n",
    "            (2,2,0),\n",
    "            (2,2,0),\n",
    "            (2,2,0),\n",
    "        ]\n",
    "        Ds = [\n",
    "            (2,-2,0),\n",
    "            (4,-2,0),\n",
    "            (4,-2,0),\n",
    "            (1.5,-3.5,0),\n",
    "        ]\n",
    "        for a,b,c,d in zip(As, Bs, Cs, Ds):\n",
    "            a = np.asarray(a)\n",
    "            b = np.asarray(b)\n",
    "            c = np.asarray(c)\n",
    "            d = np.asarray(d)\n",
    "            dots.target = VGroup(*[Dot(i) for i in (a,b,c,d)])\n",
    "            ab.target = Line(a,b)\n",
    "            bc.target = Line(b,c)\n",
    "            cd.target = Line(c,d)\n",
    "            \n",
    "            bezi = bezier([a,b,c,d])\n",
    "            points = [bezi(i/partical) for i in range(partical+1)]\n",
    "            curve.target = VMobject(color=RED).set_points_smoothly(points)\n",
    "            self.play(*[\n",
    "                MoveToTarget(i) for i in [curve, ab, bc, cd, dots]\n",
    "            ])\n",
    "            self.wait()\n",
    "        pass"
   ]
  },
  {
   "cell_type": "code",
   "execution_count": 11,
   "id": "0a60182c-15dc-42fa-8cd6-808cf069a7bf",
   "metadata": {},
   "outputs": [
    {
     "name": "stdout",
     "output_type": "stream",
     "text": [
      "17.566666666666666\n",
      "34\n"
     ]
    },
    {
     "name": "stderr",
     "output_type": "stream",
     "text": [
      "                                                                                                                              \r"
     ]
    },
    {
     "data": {
      "text/html": [
       "<video src=\"media\\jupyter\\Ex5@2022-08-03@17-34-58.mp4\" controls autoplay loop style=\"max-width: 60%;\"  >\n",
       "      Your browser does not support the <code>video</code> element.\n",
       "    </video>"
      ],
      "text/plain": [
       "<IPython.core.display.Video object>"
      ]
     },
     "metadata": {},
     "output_type": "display_data"
    }
   ],
   "source": [
    "%%manim -qm -v WARNING Ex5\n",
    "from datetime import datetime\n",
    "\n",
    "class Ex5(Scene):\n",
    "    def setup(self):\n",
    "        self.now = datetime.now()\n",
    "        self.hour = self.now.hour + self.now.minute/60\n",
    "        self.minute = self.now.minute\n",
    "        print(self.hour)\n",
    "        print(self.minute)\n",
    "        self.circle = Circle().scale(2).rotate(PI/2).flip(UP)\n",
    "        self.add(self.circle)\n",
    "        self.list_min = [self.circle.point_from_proportion(i/60) for i in range(60)]\n",
    "        self.list_line = [Line(i, self.circle.get_center()) for i in self.list_min]\n",
    "        self.hour_hand = Arrow(self.circle.get_center(), self.list_line[0].point_from_proportion(0.4), buff=0).set_color(RED).rotate(-self.hour / 6 * PI, about_point=self.circle.get_center())\n",
    "        self.minute_hand = Arrow(self.circle.get_center(), self.list_line[0].point_from_proportion(0.15), buff=0).set_color(BLUE).rotate(-self.minute / 30 * PI, about_point=self.circle.get_center())\n",
    "        self.add(*[line.get_subcurve(0, 0.1) if i%5==0 else line.get_subcurve(0, 0.02) for i, line in enumerate(self.list_line)])\n",
    "        self.add(self.hour_hand)\n",
    "        self.add(self.minute_hand)\n",
    "        self.add(*[Text(\"{hour:.0f}\".format(hour=12 if i==0 else i/5)).scale(0.4).move_to(line.point_from_proportion(0.2)) for i, line in enumerate(self.list_line) if i%5 == 0])\n",
    "        \n",
    "    def construct(self):\n",
    "        self.target_hour = 20\n",
    "        self.target_minute = 25\n",
    "        self.target_hour += self.target_minute / 60\n",
    "        value = ValueTracker(self.hour*60)\n",
    "        self.add(value)\n",
    "        \n",
    "        def update_hand_factory(arrow, f):\n",
    "            def func(obj):\n",
    "                new_hand = arrow.copy().rotate(f(value.get_value()), about_point=self.circle.get_center())\n",
    "                obj.become(new_hand)\n",
    "            return func\n",
    "        \n",
    "        self.hour_hand.add_updater(update_hand_factory(Arrow(self.circle.get_center(), self.list_line[0].point_from_proportion(0.4), buff=0).set_color(RED), lambda x: -(x/60)/6*PI ))\n",
    "        self.minute_hand.add_updater(update_hand_factory(Arrow(self.circle.get_center(), self.list_line[0].point_from_proportion(0.15), buff=0).set_color(BLUE), lambda x: -(x%60)/30*PI ))\n",
    "        \n",
    "        self.play(value.animate.set_value(self.target_hour*60), run_time=10)\n",
    "        self.wait()"
   ]
  },
  {
   "cell_type": "code",
   "execution_count": 12,
   "id": "7b937423-2a71-4733-9cd7-d302c9be08ad",
   "metadata": {},
   "outputs": [
    {
     "name": "stderr",
     "output_type": "stream",
     "text": [
      "                                                                                                                              \r"
     ]
    },
    {
     "data": {
      "text/html": [
       "<video src=\"media\\jupyter\\Ex6@2022-08-03@17-35-25.mp4\" controls autoplay loop style=\"max-width: 60%;\"  >\n",
       "      Your browser does not support the <code>video</code> element.\n",
       "    </video>"
      ],
      "text/plain": [
       "<IPython.core.display.Video object>"
      ]
     },
     "metadata": {},
     "output_type": "display_data"
    }
   ],
   "source": [
    "%%manim -qm --disable_caching -v WARNING Ex6\n",
    "from common.utils.color_utils import interpolate_color_range\n",
    "\n",
    "class Ex6(Scene):\n",
    "    def setup(self):\n",
    "        self.axes = Axes(\n",
    "            x_range=[-1, 10, 1],\n",
    "            y_range=[-1, 6, 1],\n",
    "            axis_config={\n",
    "                \"include_numbers\": True\n",
    "            }\n",
    "        )\n",
    "        func = lambda x: 0.1 * (x - 2) * (x - 8) * (x - 5) + 3\n",
    "        self.plot = self.axes.plot(func, x_range=[0.8, 9], color=RED)\n",
    "        self.add(self.axes, self.plot)\n",
    "        \n",
    "    def create_field(self, x_range):\n",
    "        x = (x_range[1]-x_range[0])/x_range[2]\n",
    "        \n",
    "        rec_kwargs = {\"stroke_width\":0, \"fill_opacity\": 1}\n",
    "        \n",
    "        def get_color(i):\n",
    "            return interpolate_color_range(GREEN, TEAL, i/x_range[2])\n",
    "        \n",
    "        def create_rectangle(i):\n",
    "            start = i*x + x_range[0]\n",
    "            end = (i+1)*x + x_range[0]\n",
    "            dl = self.axes.c2p(start, 0)\n",
    "            dr = self.axes.c2p(end, 0)\n",
    "            ul = self.axes.i2gp(start, self.plot)\n",
    "            ur = self.axes.i2gp(end, self.plot)\n",
    "            return VMobject(fill_color=get_color(i), **rec_kwargs).set_points_as_corners([dl, dr, ur, ul,])\n",
    "        \n",
    "        return VGroup(*[create_rectangle(i) for i in range(x_range[2])])\n",
    "        \n",
    "    def construct(self):\n",
    "        value_change=(4, 8, 6, 9)\n",
    "        value = ValueTracker(value_change[0])\n",
    "        self.add(value)\n",
    "        \n",
    "        def update_triangle(obj):\n",
    "            x = self.axes.c2p(value.get_value(),0)\n",
    "            obj.move_to(x+np.array([0,-0.1,0]))\n",
    "        \n",
    "        triangle = Triangle(fill_color=WHITE, stroke_width=0, fill_opacity=1).set(width=0.2).add_updater(update_triangle)\n",
    "        field = self.create_field([2,4,int((4-2)*10)]).add_updater(lambda x: x.become(self.create_field([2, value.get_value(), int((value.get_value()-2)*10)])))\n",
    "        self.add(triangle)\n",
    "        self.add(field)\n",
    "        \n",
    "        for i in value_change:\n",
    "            self.play(value.animate.set_value(i), run_time=3)\n",
    "            self.wait()"
   ]
  },
  {
   "cell_type": "code",
   "execution_count": 13,
   "id": "68f112c3-9e69-47a9-8a1a-e533cf8953e9",
   "metadata": {},
   "outputs": [
    {
     "name": "stderr",
     "output_type": "stream",
     "text": [
      "                                                                                                                              \r"
     ]
    },
    {
     "data": {
      "text/html": [
       "<video src=\"media\\jupyter\\Ex7@2022-08-03@17-35-59.mp4\" controls autoplay loop style=\"max-width: 60%;\"  >\n",
       "      Your browser does not support the <code>video</code> element.\n",
       "    </video>"
      ],
      "text/plain": [
       "<IPython.core.display.Video object>"
      ]
     },
     "metadata": {},
     "output_type": "display_data"
    }
   ],
   "source": [
    "%%manim -qm --disable_caching -v WARNING Ex7\n",
    "from common.utils.utils import distance_between_two_points\n",
    "\n",
    "class Ex7(Scene):\n",
    "    def setup(self):\n",
    "        self.axes = Axes(\n",
    "            x_range = [-5,5,1],\n",
    "            y_range = [0,5, 1],\n",
    "            x_length = 10,\n",
    "            y_length = 5,\n",
    "            axis_config = {\n",
    "                \"include_ticks\":True,\n",
    "                \"include_tip\": False,\n",
    "            }\n",
    "        )\n",
    "        self.add(self.axes)\n",
    "        \n",
    "    def create_updater(self, func):\n",
    "        return func().add_updater(lambda x: x.become(func()))\n",
    "    \n",
    "    def create_plot(self):\n",
    "        i = self.value.get_value()\n",
    "        return self.axes.plot(lambda x: 0.25*x**2+1, x_range=[-i, i, 0.01])\n",
    "    \n",
    "    def create_dots(self):\n",
    "        i = self.value.get_value()\n",
    "        return VGroup(*[Dot(self.axes.i2gp(x, self.plot), color=RED) for x in [i, -i]])\n",
    "    \n",
    "    def create_lines(self):\n",
    "        i = self.value.get_value()\n",
    "        return VGroup(\n",
    "            *[DashedLine(self.axes.i2gp(x, self.plot), self.axes.c2p(x,0)) for x in (-i, i)],\n",
    "            *[DashedLine(self.axes.i2gp(x, self.plot), self.axes.c2p(0,2)) for x in (-i, i)],\n",
    "        )\n",
    "    \n",
    "    def create_circles(self):\n",
    "        i = self.value.get_value()\n",
    "        return VGroup(\n",
    "            *[Circle(radius = distance_between_two_points(self.axes.i2gp(i, self.plot), self.axes.c2p(i)))\\\n",
    "              .move_to(self.axes.i2gp(i, self.plot))\\\n",
    "              for i in (-i, i)\n",
    "             ]\n",
    "        )\n",
    "    \n",
    "    def construct(self):\n",
    "        self.value = ValueTracker(0)\n",
    "        \n",
    "        self.plot = self.create_updater(self.create_plot)\n",
    "        self.dots = self.create_updater(self.create_dots)\n",
    "        self.lines = self.create_updater(self.create_lines)\n",
    "        self.circles = self.create_updater(self.create_circles)\n",
    "        \n",
    "        self.add(self.plot, self.dots, self.lines, self.circles)\n",
    "        self.wait()\n",
    "        self.play(self.value.animate.set_value(3), run_time=3)\n",
    "        self.wait()"
   ]
  },
  {
   "cell_type": "code",
   "execution_count": 15,
   "id": "d28f1beb-f43d-47bb-b284-a8cb431ce0b7",
   "metadata": {},
   "outputs": [
    {
     "name": "stderr",
     "output_type": "stream",
     "text": [
      "                                                                                                                              \r"
     ]
    },
    {
     "data": {
      "text/html": [
       "<video src=\"media\\jupyter\\Ex8@2022-08-03@17-36-12.mp4\" controls autoplay loop style=\"max-width: 60%;\"  >\n",
       "      Your browser does not support the <code>video</code> element.\n",
       "    </video>"
      ],
      "text/plain": [
       "<IPython.core.display.Video object>"
      ]
     },
     "metadata": {},
     "output_type": "display_data"
    }
   ],
   "source": [
    "%%manim -qm -v WARNING Ex8\n",
    "\n",
    "class Ex8(Scene):\n",
    "    def setup(self):\n",
    "        pass\n",
    "    \n",
    "    def construct(self):\n",
    "        polygon  = Triangle(start_angle=0*DEGREES).scale(2).flip(np.array([1,0,0]))\n",
    "        for i in range(4,20):\n",
    "            self.play(Transform(polygon, RegularPolygon(n=i, start_angle=0*DEGREES).scale(2).flip(np.array([1,0,0]))), rate_func=linear)"
   ]
  },
  {
   "cell_type": "code",
   "execution_count": 14,
   "id": "2499f2ec-88b9-4faf-bff2-bbb9d538d371",
   "metadata": {},
   "outputs": [
    {
     "name": "stderr",
     "output_type": "stream",
     "text": [
      "                                                                                                                              \r"
     ]
    },
    {
     "data": {
      "text/html": [
       "<video src=\"media\\jupyter\\E8@2022-08-03@17-36-03.mp4\" controls autoplay loop style=\"max-width: 60%;\"  >\n",
       "      Your browser does not support the <code>video</code> element.\n",
       "    </video>"
      ],
      "text/plain": [
       "<IPython.core.display.Video object>"
      ]
     },
     "metadata": {},
     "output_type": "display_data"
    }
   ],
   "source": [
    "%%manim -qm --disable_caching -v WARNING E8\n",
    "\n",
    "class E8(Scene):\n",
    "    def construct(self):\n",
    "        circle = Circle().scale(3)\n",
    "        vt = ValueTracker(3)\n",
    "        polygon = always_redraw(\n",
    "            lambda: Polygon(*[\n",
    "                circle.point_from_proportion(i/vt.get_value())\n",
    "                for i in range(int(vt.get_value()+0.999))\n",
    "            ])\n",
    "        )\n",
    "        self.add(polygon)\n",
    "        self.wait(0.5)\n",
    "        self.play(\n",
    "            vt.animate.set_value(10),\n",
    "            run_time=10,\n",
    "            rate_func=linear,\n",
    "        )\n",
    "        self.wait()"
   ]
  }
 ],
 "metadata": {
  "kernelspec": {
   "display_name": "Python 3 (ipykernel)",
   "language": "python",
   "name": "python3"
  },
  "language_info": {
   "codemirror_mode": {
    "name": "ipython",
    "version": 3
   },
   "file_extension": ".py",
   "mimetype": "text/x-python",
   "name": "python",
   "nbconvert_exporter": "python",
   "pygments_lexer": "ipython3",
   "version": "3.10.5"
  }
 },
 "nbformat": 4,
 "nbformat_minor": 5
}
